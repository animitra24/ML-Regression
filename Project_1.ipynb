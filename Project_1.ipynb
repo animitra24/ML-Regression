{
  "nbformat": 4,
  "nbformat_minor": 0,
  "metadata": {
    "colab": {
      "name": "Project_Test.ipynb",
      "provenance": [],
      "collapsed_sections": [],
      "authorship_tag": "ABX9TyPWDA32+6wtPnahYKswOM9q",
      "include_colab_link": true
    },
    "kernelspec": {
      "name": "python3",
      "display_name": "Python 3"
    }
  },
  "cells": [
    {
      "cell_type": "markdown",
      "metadata": {
        "id": "view-in-github",
        "colab_type": "text"
      },
      "source": [
        "<a href=\"https://colab.research.google.com/github/animitra24/ML-Regression/blob/master/Project_1.ipynb\" target=\"_parent\"><img src=\"https://colab.research.google.com/assets/colab-badge.svg\" alt=\"Open In Colab\"/></a>"
      ]
    },
    {
      "cell_type": "code",
      "metadata": {
        "id": "-z2-cGUom4pQ"
      },
      "source": [
        "import pandas as pd\r\n",
        "import numpy as np\r\n",
        "import matplotlib.pyplot as plt\r\n",
        "%matplotlib inline\r\n",
        "from sklearn.metrics import mean_squared_error\r\n",
        "from sklearn.metrics import r2_score"
      ],
      "execution_count": 31,
      "outputs": []
    },
    {
      "cell_type": "markdown",
      "metadata": {
        "id": "NNKmKr9EpFTf"
      },
      "source": [
        "# Load Dataset"
      ]
    },
    {
      "cell_type": "code",
      "metadata": {
        "id": "yRlu3NwHpKT0"
      },
      "source": [
        "path =r\"C://Users//User//Desktop//Anindita Mitra//Dataset//Car_Sales.csv\"\r\n"
      ],
      "execution_count": 15,
      "outputs": []
    },
    {
      "cell_type": "code",
      "metadata": {
        "id": "F4JYWguXtgil"
      },
      "source": [
        "df = pd.read_csv(\"/content/sample_data/Car_Sales.csv\")"
      ],
      "execution_count": 19,
      "outputs": []
    },
    {
      "cell_type": "code",
      "metadata": {
        "colab": {
          "base_uri": "https://localhost:8080/",
          "height": 195
        },
        "id": "60xlYOGNuvY6",
        "outputId": "590bafdd-71eb-489b-8163-05fbec07cacc"
      },
      "source": [
        "df.head(5)"
      ],
      "execution_count": 20,
      "outputs": [
        {
          "output_type": "execute_result",
          "data": {
            "text/html": [
              "<div>\n",
              "<style scoped>\n",
              "    .dataframe tbody tr th:only-of-type {\n",
              "        vertical-align: middle;\n",
              "    }\n",
              "\n",
              "    .dataframe tbody tr th {\n",
              "        vertical-align: top;\n",
              "    }\n",
              "\n",
              "    .dataframe thead th {\n",
              "        text-align: right;\n",
              "    }\n",
              "</style>\n",
              "<table border=\"1\" class=\"dataframe\">\n",
              "  <thead>\n",
              "    <tr style=\"text-align: right;\">\n",
              "      <th></th>\n",
              "      <th>Items Sold</th>\n",
              "      <th>Expense</th>\n",
              "      <th>Sales</th>\n",
              "      <th>Profit</th>\n",
              "    </tr>\n",
              "  </thead>\n",
              "  <tbody>\n",
              "    <tr>\n",
              "      <th>0</th>\n",
              "      <td>32</td>\n",
              "      <td>5800</td>\n",
              "      <td>1800000</td>\n",
              "      <td>192000</td>\n",
              "    </tr>\n",
              "    <tr>\n",
              "      <th>1</th>\n",
              "      <td>35</td>\n",
              "      <td>6200</td>\n",
              "      <td>1790000</td>\n",
              "      <td>190400</td>\n",
              "    </tr>\n",
              "    <tr>\n",
              "      <th>2</th>\n",
              "      <td>38</td>\n",
              "      <td>6400</td>\n",
              "      <td>1780000</td>\n",
              "      <td>191200</td>\n",
              "    </tr>\n",
              "    <tr>\n",
              "      <th>3</th>\n",
              "      <td>41</td>\n",
              "      <td>6500</td>\n",
              "      <td>1778000</td>\n",
              "      <td>177600</td>\n",
              "    </tr>\n",
              "    <tr>\n",
              "      <th>4</th>\n",
              "      <td>44</td>\n",
              "      <td>6550</td>\n",
              "      <td>1750000</td>\n",
              "      <td>176800</td>\n",
              "    </tr>\n",
              "  </tbody>\n",
              "</table>\n",
              "</div>"
            ],
            "text/plain": [
              "   Items Sold  Expense    Sales  Profit\n",
              "0          32     5800  1800000  192000\n",
              "1          35     6200  1790000  190400\n",
              "2          38     6400  1780000  191200\n",
              "3          41     6500  1778000  177600\n",
              "4          44     6550  1750000  176800"
            ]
          },
          "metadata": {
            "tags": []
          },
          "execution_count": 20
        }
      ]
    },
    {
      "cell_type": "code",
      "metadata": {
        "colab": {
          "base_uri": "https://localhost:8080/"
        },
        "id": "yA-BtuF_uyg-",
        "outputId": "d0da6a5b-7f83-483a-f97d-2401224498f9"
      },
      "source": [
        "df.isnull().sum()"
      ],
      "execution_count": 21,
      "outputs": [
        {
          "output_type": "execute_result",
          "data": {
            "text/plain": [
              "Items Sold    0\n",
              "Expense       0\n",
              "Sales         0\n",
              "Profit        0\n",
              "dtype: int64"
            ]
          },
          "metadata": {
            "tags": []
          },
          "execution_count": 21
        }
      ]
    },
    {
      "cell_type": "code",
      "metadata": {
        "colab": {
          "base_uri": "https://localhost:8080/",
          "height": 284
        },
        "id": "FL5OOvchuyk3",
        "outputId": "12725c7d-0dd1-4f57-ada6-89e1959541cb"
      },
      "source": [
        "df.describe()"
      ],
      "execution_count": 22,
      "outputs": [
        {
          "output_type": "execute_result",
          "data": {
            "text/html": [
              "<div>\n",
              "<style scoped>\n",
              "    .dataframe tbody tr th:only-of-type {\n",
              "        vertical-align: middle;\n",
              "    }\n",
              "\n",
              "    .dataframe tbody tr th {\n",
              "        vertical-align: top;\n",
              "    }\n",
              "\n",
              "    .dataframe thead th {\n",
              "        text-align: right;\n",
              "    }\n",
              "</style>\n",
              "<table border=\"1\" class=\"dataframe\">\n",
              "  <thead>\n",
              "    <tr style=\"text-align: right;\">\n",
              "      <th></th>\n",
              "      <th>Items Sold</th>\n",
              "      <th>Expense</th>\n",
              "      <th>Sales</th>\n",
              "      <th>Profit</th>\n",
              "    </tr>\n",
              "  </thead>\n",
              "  <tbody>\n",
              "    <tr>\n",
              "      <th>count</th>\n",
              "      <td>27.000000</td>\n",
              "      <td>27.000000</td>\n",
              "      <td>2.700000e+01</td>\n",
              "      <td>27.000000</td>\n",
              "    </tr>\n",
              "    <tr>\n",
              "      <th>mean</th>\n",
              "      <td>71.000000</td>\n",
              "      <td>11063.259259</td>\n",
              "      <td>1.680111e+06</td>\n",
              "      <td>160026.074074</td>\n",
              "    </tr>\n",
              "    <tr>\n",
              "      <th>std</th>\n",
              "      <td>23.811762</td>\n",
              "      <td>3416.627944</td>\n",
              "      <td>6.780307e+04</td>\n",
              "      <td>21301.097303</td>\n",
              "    </tr>\n",
              "    <tr>\n",
              "      <th>min</th>\n",
              "      <td>32.000000</td>\n",
              "      <td>5800.000000</td>\n",
              "      <td>1.590000e+06</td>\n",
              "      <td>115696.000000</td>\n",
              "    </tr>\n",
              "    <tr>\n",
              "      <th>25%</th>\n",
              "      <td>51.500000</td>\n",
              "      <td>8400.000000</td>\n",
              "      <td>1.617500e+06</td>\n",
              "      <td>149600.000000</td>\n",
              "    </tr>\n",
              "    <tr>\n",
              "      <th>50%</th>\n",
              "      <td>71.000000</td>\n",
              "      <td>11600.000000</td>\n",
              "      <td>1.695000e+06</td>\n",
              "      <td>161600.000000</td>\n",
              "    </tr>\n",
              "    <tr>\n",
              "      <th>75%</th>\n",
              "      <td>90.500000</td>\n",
              "      <td>13888.000000</td>\n",
              "      <td>1.725000e+06</td>\n",
              "      <td>176000.000000</td>\n",
              "    </tr>\n",
              "    <tr>\n",
              "      <th>max</th>\n",
              "      <td>110.000000</td>\n",
              "      <td>16200.000000</td>\n",
              "      <td>1.800000e+06</td>\n",
              "      <td>192000.000000</td>\n",
              "    </tr>\n",
              "  </tbody>\n",
              "</table>\n",
              "</div>"
            ],
            "text/plain": [
              "       Items Sold       Expense         Sales         Profit\n",
              "count   27.000000     27.000000  2.700000e+01      27.000000\n",
              "mean    71.000000  11063.259259  1.680111e+06  160026.074074\n",
              "std     23.811762   3416.627944  6.780307e+04   21301.097303\n",
              "min     32.000000   5800.000000  1.590000e+06  115696.000000\n",
              "25%     51.500000   8400.000000  1.617500e+06  149600.000000\n",
              "50%     71.000000  11600.000000  1.695000e+06  161600.000000\n",
              "75%     90.500000  13888.000000  1.725000e+06  176000.000000\n",
              "max    110.000000  16200.000000  1.800000e+06  192000.000000"
            ]
          },
          "metadata": {
            "tags": []
          },
          "execution_count": 22
        }
      ]
    },
    {
      "cell_type": "code",
      "metadata": {
        "id": "gMuMgizIuyo6"
      },
      "source": [
        "# Lets define the object X & Y \r\n",
        "x = df.drop(['Profit'],axis='columns')\r\n",
        "y=df.Profit"
      ],
      "execution_count": 23,
      "outputs": []
    },
    {
      "cell_type": "code",
      "metadata": {
        "id": "oUN5C6Emuysb"
      },
      "source": [
        "# Splitting data into training and test set\r\n",
        "from sklearn.model_selection import train_test_split\r\n",
        "x_train, x_test, y_train, y_test = train_test_split (x , y, test_size=0.2, random_state=20)"
      ],
      "execution_count": 28,
      "outputs": []
    },
    {
      "cell_type": "markdown",
      "metadata": {
        "id": "epSKngi8vDNO"
      },
      "source": [
        "### Multiple Linear Regression"
      ]
    },
    {
      "cell_type": "code",
      "metadata": {
        "colab": {
          "base_uri": "https://localhost:8080/"
        },
        "id": "l5BP-1H_vG0C",
        "outputId": "c42b3df5-0067-4841-cde5-06bc03941f7b"
      },
      "source": [
        "#from sklearn library import Simple Linear Regression\r\n",
        "from sklearn.linear_model import LinearRegression\r\n",
        "MLreg = LinearRegression()\r\n",
        "MLreg.fit(x_train, y_train)"
      ],
      "execution_count": 29,
      "outputs": [
        {
          "output_type": "execute_result",
          "data": {
            "text/plain": [
              "LinearRegression(copy_X=True, fit_intercept=True, n_jobs=None, normalize=False)"
            ]
          },
          "metadata": {
            "tags": []
          },
          "execution_count": 29
        }
      ]
    },
    {
      "cell_type": "code",
      "metadata": {
        "id": "vGAHFsYIv5xm"
      },
      "source": [
        "y_pred_ML = reg.predict(x_test)"
      ],
      "execution_count": 30,
      "outputs": []
    },
    {
      "cell_type": "code",
      "metadata": {
        "id": "m2FQ2J_SwN9_"
      },
      "source": [
        "mse_ML = mean_squared_error(y_test, y_pred_ML)\r\n",
        "rmse_ML = np.sqrt(mse_ML)"
      ],
      "execution_count": 34,
      "outputs": []
    },
    {
      "cell_type": "code",
      "metadata": {
        "colab": {
          "base_uri": "https://localhost:8080/"
        },
        "id": "U14xR6bgwX1q",
        "outputId": "61bd9a08-8a1b-4ebf-b278-ee3822485543"
      },
      "source": [
        "# SCORE ON TRAINING\r\n",
        "MLreg.score(x_train,y_train)"
      ],
      "execution_count": 35,
      "outputs": [
        {
          "output_type": "execute_result",
          "data": {
            "text/plain": [
              "0.8027203693551719"
            ]
          },
          "metadata": {
            "tags": []
          },
          "execution_count": 35
        }
      ]
    },
    {
      "cell_type": "code",
      "metadata": {
        "colab": {
          "base_uri": "https://localhost:8080/"
        },
        "id": "2XtneuUmwcMr",
        "outputId": "44d7854f-39af-4fa0-9c5f-020cb8d13d73"
      },
      "source": [
        "#Score of Predicted Data\r\n",
        "r2_score(y_test, y_pred_ML)"
      ],
      "execution_count": 37,
      "outputs": [
        {
          "output_type": "execute_result",
          "data": {
            "text/plain": [
              "0.8959760275386588"
            ]
          },
          "metadata": {
            "tags": []
          },
          "execution_count": 37
        }
      ]
    },
    {
      "cell_type": "markdown",
      "metadata": {
        "id": "TcxaoKxNwvxE"
      },
      "source": [
        "# Decision Tree"
      ]
    },
    {
      "cell_type": "code",
      "metadata": {
        "colab": {
          "base_uri": "https://localhost:8080/"
        },
        "id": "NocBFBlRwy47",
        "outputId": "b7474626-b5e9-4b0b-d485-2bf2034e9594"
      },
      "source": [
        "from sklearn.tree import DecisionTreeRegressor\r\n",
        "dec_reg = DecisionTreeRegressor(random_state = 0)\r\n",
        "dec_reg.fit(x_train, y_train)"
      ],
      "execution_count": 38,
      "outputs": [
        {
          "output_type": "execute_result",
          "data": {
            "text/plain": [
              "DecisionTreeRegressor(ccp_alpha=0.0, criterion='mse', max_depth=None,\n",
              "                      max_features=None, max_leaf_nodes=None,\n",
              "                      min_impurity_decrease=0.0, min_impurity_split=None,\n",
              "                      min_samples_leaf=1, min_samples_split=2,\n",
              "                      min_weight_fraction_leaf=0.0, presort='deprecated',\n",
              "                      random_state=0, splitter='best')"
            ]
          },
          "metadata": {
            "tags": []
          },
          "execution_count": 38
        }
      ]
    },
    {
      "cell_type": "code",
      "metadata": {
        "id": "NC3Fxr3fw4U5"
      },
      "source": [
        "y_pred_DL = dec_reg.predict(x_test)"
      ],
      "execution_count": 39,
      "outputs": []
    },
    {
      "cell_type": "code",
      "metadata": {
        "colab": {
          "base_uri": "https://localhost:8080/"
        },
        "id": "O-DpXWB2w74K",
        "outputId": "8ff28b9c-b0c7-455a-9ee4-893ec4f3ecde"
      },
      "source": [
        "mse_DL = mean_squared_error(y_test, y_pred_DL)\r\n",
        "rmse_DL = np.sqrt(mse_DL)\r\n",
        "print('MSE = ', mse_DL)\r\n",
        "print('RMSE = ', rmse_DL)"
      ],
      "execution_count": 41,
      "outputs": [
        {
          "output_type": "stream",
          "text": [
            "MSE =  1804800.0\n",
            "RMSE =  1343.4284498997333\n"
          ],
          "name": "stdout"
        }
      ]
    },
    {
      "cell_type": "code",
      "metadata": {
        "colab": {
          "base_uri": "https://localhost:8080/"
        },
        "id": "UJaX_vrXxFv_",
        "outputId": "b4f2fc6d-9f71-49c9-c960-447a7ab6c6f2"
      },
      "source": [
        "#Score on Traininig Data\r\n",
        "dec_reg.score(x_train, y_train)"
      ],
      "execution_count": 42,
      "outputs": [
        {
          "output_type": "execute_result",
          "data": {
            "text/plain": [
              "1.0"
            ]
          },
          "metadata": {
            "tags": []
          },
          "execution_count": 42
        }
      ]
    },
    {
      "cell_type": "code",
      "metadata": {
        "colab": {
          "base_uri": "https://localhost:8080/"
        },
        "id": "JUUw9LQlxOb2",
        "outputId": "4924dc24-70f4-4398-cddd-8f6fbe8edaa7"
      },
      "source": [
        "#Score on Predicted  Data\r\n",
        "r2_score(y_test, y_pred_DL)"
      ],
      "execution_count": 43,
      "outputs": [
        {
          "output_type": "execute_result",
          "data": {
            "text/plain": [
              "0.9880283018867925"
            ]
          },
          "metadata": {
            "tags": []
          },
          "execution_count": 43
        }
      ]
    },
    {
      "cell_type": "markdown",
      "metadata": {
        "id": "c4BDIje_x9UT"
      },
      "source": [
        "# Random Forest"
      ]
    },
    {
      "cell_type": "code",
      "metadata": {
        "colab": {
          "base_uri": "https://localhost:8080/"
        },
        "id": "R9Uk9NaFyDlV",
        "outputId": "5c247c67-36d1-4d3f-f123-4576bcab21a9"
      },
      "source": [
        "# Training Random Forest Reg.\r\n",
        "from sklearn.ensemble import RandomForestRegressor\r\n",
        "RanF_reg = RandomForestRegressor(n_estimators = 10, random_state = 0)\r\n",
        "RanF_reg.fit(x_train, y_train)"
      ],
      "execution_count": 44,
      "outputs": [
        {
          "output_type": "execute_result",
          "data": {
            "text/plain": [
              "RandomForestRegressor(bootstrap=True, ccp_alpha=0.0, criterion='mse',\n",
              "                      max_depth=None, max_features='auto', max_leaf_nodes=None,\n",
              "                      max_samples=None, min_impurity_decrease=0.0,\n",
              "                      min_impurity_split=None, min_samples_leaf=1,\n",
              "                      min_samples_split=2, min_weight_fraction_leaf=0.0,\n",
              "                      n_estimators=10, n_jobs=None, oob_score=False,\n",
              "                      random_state=0, verbose=0, warm_start=False)"
            ]
          },
          "metadata": {
            "tags": []
          },
          "execution_count": 44
        }
      ]
    },
    {
      "cell_type": "code",
      "metadata": {
        "id": "IVfyvjoJyHUW"
      },
      "source": [
        "y_pred_RF = RanF_reg.predict(x_test)"
      ],
      "execution_count": 45,
      "outputs": []
    },
    {
      "cell_type": "code",
      "metadata": {
        "colab": {
          "base_uri": "https://localhost:8080/"
        },
        "id": "BkCtWhuhyK9D",
        "outputId": "234394a1-4e1b-40c4-dc44-40f08eb4d966"
      },
      "source": [
        "mse_RF = mean_squared_error(y_test, y_pred_RF)\r\n",
        "rmse_RF = np.sqrt(mse_RF)\r\n",
        "print('MSE = ', mse_RF)\r\n",
        "print('RMSE = ', rmse_RF)"
      ],
      "execution_count": 46,
      "outputs": [
        {
          "output_type": "stream",
          "text": [
            "MSE =  27231197.01333329\n",
            "RMSE =  5218.351944180585\n"
          ],
          "name": "stdout"
        }
      ]
    },
    {
      "cell_type": "code",
      "metadata": {
        "colab": {
          "base_uri": "https://localhost:8080/"
        },
        "id": "dF1ppZa-yR5l",
        "outputId": "04158abd-fbd9-45bb-a8db-4ab82fc1cf81"
      },
      "source": [
        "# SCORE ON TRAINING\r\n",
        "RanF_reg.score(x_train, y_train)"
      ],
      "execution_count": 47,
      "outputs": [
        {
          "output_type": "execute_result",
          "data": {
            "text/plain": [
              "0.9343769046256304"
            ]
          },
          "metadata": {
            "tags": []
          },
          "execution_count": 47
        }
      ]
    },
    {
      "cell_type": "code",
      "metadata": {
        "colab": {
          "base_uri": "https://localhost:8080/"
        },
        "id": "mMUAPMlOyT18",
        "outputId": "7a2d401e-db4f-488d-bca7-0b8c07520673"
      },
      "source": [
        "#SCORE ON TEST\r\n",
        "r2_score(y_test, y_pred_RF)"
      ],
      "execution_count": 48,
      "outputs": [
        {
          "output_type": "execute_result",
          "data": {
            "text/plain": [
              "0.8193685339622644"
            ]
          },
          "metadata": {
            "tags": []
          },
          "execution_count": 48
        }
      ]
    },
    {
      "cell_type": "markdown",
      "metadata": {
        "id": "J1vpLA3XyljG"
      },
      "source": [
        "### XG Boost"
      ]
    },
    {
      "cell_type": "code",
      "metadata": {
        "colab": {
          "base_uri": "https://localhost:8080/"
        },
        "id": "rKxqgXkHymjg",
        "outputId": "35a122fe-db9c-4c24-c6ab-9499731f4d9d"
      },
      "source": [
        "# Training XGBoost Reg.\r\n",
        "from xgboost import XGBRegressor\r\n",
        "XGB_reg = XGBRegressor()\r\n",
        "XGB_reg.fit(x_train, y_train)"
      ],
      "execution_count": 49,
      "outputs": [
        {
          "output_type": "stream",
          "text": [
            "[21:39:49] WARNING: /workspace/src/objective/regression_obj.cu:152: reg:linear is now deprecated in favor of reg:squarederror.\n"
          ],
          "name": "stdout"
        },
        {
          "output_type": "execute_result",
          "data": {
            "text/plain": [
              "XGBRegressor(base_score=0.5, booster='gbtree', colsample_bylevel=1,\n",
              "             colsample_bynode=1, colsample_bytree=1, gamma=0,\n",
              "             importance_type='gain', learning_rate=0.1, max_delta_step=0,\n",
              "             max_depth=3, min_child_weight=1, missing=None, n_estimators=100,\n",
              "             n_jobs=1, nthread=None, objective='reg:linear', random_state=0,\n",
              "             reg_alpha=0, reg_lambda=1, scale_pos_weight=1, seed=None,\n",
              "             silent=None, subsample=1, verbosity=1)"
            ]
          },
          "metadata": {
            "tags": []
          },
          "execution_count": 49
        }
      ]
    },
    {
      "cell_type": "code",
      "metadata": {
        "id": "oocMiOSMyrAZ"
      },
      "source": [
        "y_pred_XGB = XGB_reg.predict(x_test)"
      ],
      "execution_count": 50,
      "outputs": []
    },
    {
      "cell_type": "code",
      "metadata": {
        "colab": {
          "base_uri": "https://localhost:8080/"
        },
        "id": "gRj666vEyt0A",
        "outputId": "7e5b390e-ad81-4e9f-b48f-e46e66e9cf68"
      },
      "source": [
        "mse_XGB = mean_squared_error(y_test, y_pred_XGB)\r\n",
        "rmse_XGB = np.sqrt(mse_XGB)\r\n",
        "print('MSE = ', mse_XGB)\r\n",
        "print('RMSE = ', rmse_XGB)"
      ],
      "execution_count": 51,
      "outputs": [
        {
          "output_type": "stream",
          "text": [
            "MSE =  17274700.630818684\n",
            "RMSE =  4156.284474241228\n"
          ],
          "name": "stdout"
        }
      ]
    },
    {
      "cell_type": "code",
      "metadata": {
        "colab": {
          "base_uri": "https://localhost:8080/"
        },
        "id": "_qqqP4hQyupy",
        "outputId": "6fca1e04-9d2d-42b1-dec3-ddd37a4c8a3f"
      },
      "source": [
        "#SCORE ON TRAINING DATA\r\n",
        "XGB_reg.score(x_train, y_train)"
      ],
      "execution_count": 54,
      "outputs": [
        {
          "output_type": "execute_result",
          "data": {
            "text/plain": [
              "0.9979324343911589"
            ]
          },
          "metadata": {
            "tags": []
          },
          "execution_count": 54
        }
      ]
    },
    {
      "cell_type": "code",
      "metadata": {
        "colab": {
          "base_uri": "https://localhost:8080/"
        },
        "id": "IjuDQ24ky0kI",
        "outputId": "7faf78fc-0d52-4f49-c3d3-c2ef0063f9a8"
      },
      "source": [
        "#SCORE ON TEST DATA\r\n",
        "r2_score(y_test, y_pred_XGB)"
      ],
      "execution_count": 53,
      "outputs": [
        {
          "output_type": "execute_result",
          "data": {
            "text/plain": [
              "0.885412510556185"
            ]
          },
          "metadata": {
            "tags": []
          },
          "execution_count": 53
        }
      ]
    },
    {
      "cell_type": "markdown",
      "metadata": {
        "id": "Sl6TWbWkz6T1"
      },
      "source": [
        "### KNN"
      ]
    },
    {
      "cell_type": "code",
      "metadata": {
        "colab": {
          "base_uri": "https://localhost:8080/"
        },
        "id": "0ZcY7DYy0C8z",
        "outputId": "deb9164f-e32e-4077-fec5-05d2d907a35f"
      },
      "source": [
        "#Training the Data\r\n",
        "from sklearn.neighbors import KNeighborsRegressor\r\n",
        "KNN_reg = KNeighborsRegressor(n_neighbors=5)\r\n",
        "KNN_reg.fit(x_train,y_train)"
      ],
      "execution_count": 55,
      "outputs": [
        {
          "output_type": "execute_result",
          "data": {
            "text/plain": [
              "KNeighborsRegressor(algorithm='auto', leaf_size=30, metric='minkowski',\n",
              "                    metric_params=None, n_jobs=None, n_neighbors=5, p=2,\n",
              "                    weights='uniform')"
            ]
          },
          "metadata": {
            "tags": []
          },
          "execution_count": 55
        }
      ]
    },
    {
      "cell_type": "code",
      "metadata": {
        "id": "19CyxA8N0FpK"
      },
      "source": [
        "y_pred_KNN = KNN_reg.predict(x_test)"
      ],
      "execution_count": 56,
      "outputs": []
    },
    {
      "cell_type": "code",
      "metadata": {
        "colab": {
          "base_uri": "https://localhost:8080/"
        },
        "id": "qiE6nUsn0Lp4",
        "outputId": "6752ef26-7071-428c-94e2-8ca444c92ea6"
      },
      "source": [
        "mse_KNN = mean_squared_error(y_test, y_pred_KNN)\r\n",
        "rmse_KNN = np.sqrt(mse_KNN)\r\n",
        "print('MSE = ', mse_KNN)\r\n",
        "print('RMSE = ', rmse_KNN)"
      ],
      "execution_count": 57,
      "outputs": [
        {
          "output_type": "stream",
          "text": [
            "MSE =  46879281.49333332\n",
            "RMSE =  6846.844637738855\n"
          ],
          "name": "stdout"
        }
      ]
    },
    {
      "cell_type": "code",
      "metadata": {
        "colab": {
          "base_uri": "https://localhost:8080/"
        },
        "id": "YEJ_cVlV0V3N",
        "outputId": "5c0c78ee-1e2b-475d-936e-eaeaab7753cd"
      },
      "source": [
        "#Score on Training data\r\n",
        "KNN_reg.score(x_train,y_train)"
      ],
      "execution_count": 58,
      "outputs": [
        {
          "output_type": "execute_result",
          "data": {
            "text/plain": [
              "0.8107646259170309"
            ]
          },
          "metadata": {
            "tags": []
          },
          "execution_count": 58
        }
      ]
    },
    {
      "cell_type": "code",
      "metadata": {
        "colab": {
          "base_uri": "https://localhost:8080/"
        },
        "id": "Rr71X0lJ0mVL",
        "outputId": "645cd09c-7261-433d-af04-86812cbd8a92"
      },
      "source": [
        "#Score on Test Data\r\n",
        "r2_score(y_test, y_pred_KNN)"
      ],
      "execution_count": 59,
      "outputs": [
        {
          "output_type": "execute_result",
          "data": {
            "text/plain": [
              "0.6890377849056604"
            ]
          },
          "metadata": {
            "tags": []
          },
          "execution_count": 59
        }
      ]
    },
    {
      "cell_type": "code",
      "metadata": {
        "colab": {
          "base_uri": "https://localhost:8080/"
        },
        "id": "PKDE08A-1F_2",
        "outputId": "c752353c-2a3c-4f03-f8b7-20ab386407c5"
      },
      "source": [
        "print(\"Multiple Linear Regression:\", r2_score(y_test, y_pred_ML))\r\n",
        "print(\"Decision Tree Regression:\", r2_score(y_test, y_pred_DL))\r\n",
        "print(\"Random Forest Regression:\", r2_score(y_test, y_pred_RF))\r\n",
        "print(\"XGB Regression:\", r2_score(y_test, y_pred_XGB))  \r\n",
        "print(\"KNN Regression:\", r2_score(y_test, y_pred_KNN))\r\n"
      ],
      "execution_count": 63,
      "outputs": [
        {
          "output_type": "stream",
          "text": [
            "Multiple Linear Regression: 0.8959760275386588\n",
            "Decision Tree Regression: 0.9880283018867925\n",
            "Random Forest Regression: 0.8193685339622644\n",
            "XGB Regression: 0.885412510556185\n",
            "KNN Regression: 0.6890377849056604\n"
          ],
          "name": "stdout"
        }
      ]
    }
  ]
}